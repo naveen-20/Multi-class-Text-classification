{
 "cells": [
  {
   "cell_type": "code",
   "execution_count": 1,
   "metadata": {},
   "outputs": [],
   "source": [
    "import numpy as np\n",
    "import pandas as pd\n",
    "import matplotlib.pyplot as plt\n",
    "import seaborn as sns\n",
    "%matplotlib inline"
   ]
  },
  {
   "cell_type": "code",
   "execution_count": 2,
   "metadata": {},
   "outputs": [],
   "source": [
    "data = pd.read_csv(r'C:\\Users\\91904\\Desktop\\Projects\\stack-overflow-data.csv')"
   ]
  },
  {
   "cell_type": "code",
   "execution_count": 3,
   "metadata": {},
   "outputs": [
    {
     "data": {
      "text/html": [
       "<div>\n",
       "<style scoped>\n",
       "    .dataframe tbody tr th:only-of-type {\n",
       "        vertical-align: middle;\n",
       "    }\n",
       "\n",
       "    .dataframe tbody tr th {\n",
       "        vertical-align: top;\n",
       "    }\n",
       "\n",
       "    .dataframe thead th {\n",
       "        text-align: right;\n",
       "    }\n",
       "</style>\n",
       "<table border=\"1\" class=\"dataframe\">\n",
       "  <thead>\n",
       "    <tr style=\"text-align: right;\">\n",
       "      <th></th>\n",
       "      <th>post</th>\n",
       "      <th>tags</th>\n",
       "    </tr>\n",
       "  </thead>\n",
       "  <tbody>\n",
       "    <tr>\n",
       "      <td>0</td>\n",
       "      <td>what is causing this behavior  in our c# datet...</td>\n",
       "      <td>c#</td>\n",
       "    </tr>\n",
       "    <tr>\n",
       "      <td>1</td>\n",
       "      <td>have dynamic html load as if it was in an ifra...</td>\n",
       "      <td>asp.net</td>\n",
       "    </tr>\n",
       "    <tr>\n",
       "      <td>2</td>\n",
       "      <td>how to convert a float value in to min:sec  i ...</td>\n",
       "      <td>objective-c</td>\n",
       "    </tr>\n",
       "    <tr>\n",
       "      <td>3</td>\n",
       "      <td>.net framework 4 redistributable  just wonderi...</td>\n",
       "      <td>.net</td>\n",
       "    </tr>\n",
       "    <tr>\n",
       "      <td>4</td>\n",
       "      <td>trying to calculate and print the mean and its...</td>\n",
       "      <td>python</td>\n",
       "    </tr>\n",
       "  </tbody>\n",
       "</table>\n",
       "</div>"
      ],
      "text/plain": [
       "                                                post         tags\n",
       "0  what is causing this behavior  in our c# datet...           c#\n",
       "1  have dynamic html load as if it was in an ifra...      asp.net\n",
       "2  how to convert a float value in to min:sec  i ...  objective-c\n",
       "3  .net framework 4 redistributable  just wonderi...         .net\n",
       "4  trying to calculate and print the mean and its...       python"
      ]
     },
     "execution_count": 3,
     "metadata": {},
     "output_type": "execute_result"
    }
   ],
   "source": [
    "data.head()"
   ]
  },
  {
   "cell_type": "code",
   "execution_count": 4,
   "metadata": {},
   "outputs": [
    {
     "data": {
      "text/plain": [
       "(40000, 2)"
      ]
     },
     "execution_count": 4,
     "metadata": {},
     "output_type": "execute_result"
    }
   ],
   "source": [
    "data.shape"
   ]
  },
  {
   "cell_type": "code",
   "execution_count": 5,
   "metadata": {
    "scrolled": true
   },
   "outputs": [
    {
     "data": {
      "text/plain": [
       "array(['c#', 'asp.net', 'objective-c', '.net', 'python', 'angularjs',\n",
       "       'iphone', 'ruby-on-rails', 'ios', 'c', 'sql', 'java', 'jquery',\n",
       "       'css', 'c++', 'php', 'android', 'mysql', 'javascript', 'html'],\n",
       "      dtype=object)"
      ]
     },
     "execution_count": 5,
     "metadata": {},
     "output_type": "execute_result"
    }
   ],
   "source": [
    "data['tags'].unique()"
   ]
  },
  {
   "cell_type": "code",
   "execution_count": 6,
   "metadata": {},
   "outputs": [
    {
     "data": {
      "text/plain": [
       "20"
      ]
     },
     "execution_count": 6,
     "metadata": {},
     "output_type": "execute_result"
    }
   ],
   "source": [
    "data['tags'].nunique()"
   ]
  },
  {
   "cell_type": "markdown",
   "metadata": {},
   "source": [
    "Checking for null values."
   ]
  },
  {
   "cell_type": "code",
   "execution_count": 7,
   "metadata": {},
   "outputs": [
    {
     "data": {
      "text/plain": [
       "0"
      ]
     },
     "execution_count": 7,
     "metadata": {},
     "output_type": "execute_result"
    }
   ],
   "source": [
    "pd.isnull(data['tags']).sum()"
   ]
  },
  {
   "cell_type": "markdown",
   "metadata": {},
   "source": [
    "No null values are present."
   ]
  },
  {
   "cell_type": "code",
   "execution_count": 8,
   "metadata": {},
   "outputs": [
    {
     "data": {
      "text/plain": [
       "10286120"
      ]
     },
     "execution_count": 8,
     "metadata": {},
     "output_type": "execute_result"
    }
   ],
   "source": [
    "data['post'].apply(lambda x: len(x.split(' '))).sum()"
   ]
  },
  {
   "cell_type": "markdown",
   "metadata": {},
   "source": [
    "We have more than 10 million words in the data."
   ]
  },
  {
   "cell_type": "markdown",
   "metadata": {},
   "source": [
    "Distribution of classes."
   ]
  },
  {
   "cell_type": "code",
   "execution_count": 9,
   "metadata": {},
   "outputs": [
    {
     "data": {
      "text/plain": [
       "<matplotlib.axes._subplots.AxesSubplot at 0x2293dc6ab08>"
      ]
     },
     "execution_count": 9,
     "metadata": {},
     "output_type": "execute_result"
    },
    {
     "data": {
      "image/png": "[encoded data removed]",
      "text/plain": [
       "<Figure size 1224x432 with 1 Axes>"
      ]
     },
     "metadata": {
      "needs_background": "light"
     },
     "output_type": "display_data"
    }
   ],
   "source": [
    "plt.figure(figsize=(17,6))\n",
    "sns.countplot(data['tags'])"
   ]
  },
  {
   "cell_type": "markdown",
   "metadata": {},
   "source": [
    "From the above visualisation we can see classes are very well balanced."
   ]
  },
  {
   "cell_type": "code",
   "execution_count": 10,
   "metadata": {},
   "outputs": [],
   "source": [
    "def post_tag(index):\n",
    "    post = data[data.index==index].values[0]\n",
    "    print(post[0])\n",
    "    print('Tag:', post[1])"
   ]
  },
  {
   "cell_type": "markdown",
   "metadata": {},
   "source": [
    "Looking few posts and tags."
   ]
  },
  {
   "cell_type": "code",
   "execution_count": 11,
   "metadata": {},
   "outputs": [
    {
     "name": "stdout",
     "output_type": "stream",
     "text": [
      "how to give alias name for my website  i have deployed my asp.net site in one of our server which is in ip format. so  i used to browse it like… <code>http://xx.xx.xx.xx/mysite</code>    but  i want to get out of this ip and give some text. how can i achieve this.    also  i can’t change the host alias name.\n",
      "Tag: asp.net\n"
     ]
    }
   ],
   "source": [
    "post_tag(5)"
   ]
  },
  {
   "cell_type": "code",
   "execution_count": 12,
   "metadata": {},
   "outputs": [
    {
     "name": "stdout",
     "output_type": "stream",
     "text": [
      "how to install .ipa on jailbroken iphone over the air with out apple certificate  how can i install ipa/deb files on an iphone device directly without user interference i.e. user should not use any terminal or third party tool like cyberduck/iexplorer to install the file  the entire process should be automated. exactly the same as cydia does.\n",
      "Tag: ios\n"
     ]
    }
   ],
   "source": [
    "post_tag(11)"
   ]
  },
  {
   "cell_type": "code",
   "execution_count": 13,
   "metadata": {},
   "outputs": [
    {
     "name": "stdout",
     "output_type": "stream",
     "text": [
      "     i like to create this type of validation every row or tr so please help me..]<a href= http://i.stack.imgur.com/t8zyd.png  rel= nofollow >1</a>]<a href= http://i.stack.imgur.com/t8zyd.png  rel= nofollow >1</a>    i put this one but if i write in one text field every validation gone..\n",
      "Tag: javascript\n"
     ]
    }
   ],
   "source": [
    "post_tag(10000)"
   ]
  },
  {
   "cell_type": "markdown",
   "metadata": {},
   "source": [
    "The texts needs to be cleaned up."
   ]
  },
  {
   "cell_type": "code",
   "execution_count": 14,
   "metadata": {},
   "outputs": [],
   "source": [
    "import re\n",
    "import nltk\n",
    "from nltk.corpus import stopwords\n",
    "from bs4 import BeautifulSoup"
   ]
  },
  {
   "cell_type": "code",
   "execution_count": 15,
   "metadata": {},
   "outputs": [],
   "source": [
    "def clean_text(text):\n",
    "    text = BeautifulSoup(text,'lxml').text\n",
    "    text = text.lower()\n",
    "    text = re.sub('[/(){}\\[\\]\\|@,;]', \" \",text)\n",
    "    text = re.sub('[^0-9a-z #+_]',\" \",text)\n",
    "    text = ' '.join(word for word in text.split() if word not in set(stopwords.words('english')))\n",
    "    return text"
   ]
  },
  {
   "cell_type": "code",
   "execution_count": 16,
   "metadata": {},
   "outputs": [],
   "source": [
    "data['post'] = data['post'].apply(clean_text)"
   ]
  },
  {
   "cell_type": "code",
   "execution_count": 17,
   "metadata": {},
   "outputs": [
    {
     "name": "stdout",
     "output_type": "stream",
     "text": [
      "give alias name website deployed asp net site one server ip format used browse like http xx xx xx xx mysite want get ip give text achieve also change host alias name\n",
      "Tag: asp.net\n"
     ]
    }
   ],
   "source": [
    "post_tag(5)"
   ]
  },
  {
   "cell_type": "code",
   "execution_count": 18,
   "metadata": {},
   "outputs": [
    {
     "name": "stdout",
     "output_type": "stream",
     "text": [
      "install ipa jailbroken iphone air apple certificate install ipa deb files iphone device directly without user interference e user use terminal third party tool like cyberduck iexplorer install file entire process automated exactly cydia\n",
      "Tag: ios\n"
     ]
    }
   ],
   "source": [
    "post_tag(11)"
   ]
  },
  {
   "cell_type": "code",
   "execution_count": 19,
   "metadata": {
    "scrolled": true
   },
   "outputs": [
    {
     "name": "stdout",
     "output_type": "stream",
     "text": [
      "use java script validation using clone function separate validation row java script used clone add function validation every row help var 0 function clonerow var row document getelementbyid clone var table document getelementbyid data var selectindex 1 var clone row clonenode true table appendchild clone clone setattribute style function deleterow btn var result confirm want delete result var row btn parentnode parentnode row parentnode removechild row div class row div class col sm 12 div class col sm 7 div div class col sm 2 button type button class btn btn primary default btn xs onclick clonerow add button div div div br br div class row id close div class col sm 4 div div class col sm 4 form id name_value method post table class table striped tbody id data tr id clone style display none td name input type text name input_name style width 100px id name name input_name td td value input type text name input_value style width 100px id value name input_value td td button type button class btn btn primary default btn xs name delete style margin left 5px onclick deleterow return false span class glyphicon glyphicon remove circle style text align center span button td tr tr td name input type text name input_name style width 100px id name name input_name td td value input type text name input_value style width 100px id value name input_value td td button type button class btn btn primary default btn xs name delete style margin left 5px onclick deleterow return false span class glyphicon glyphicon remove circle style text align center span button td tr tbody table br button type button class btn btn primary default btn xs style margin left 5px onclick submit_login return false save button form div div document ready validator addmethod valuenotequals function value element arg return arg value value must equal arg function #name_value validate errorclass validation error class specify validation rules rules input_name required true maxlength 64 input_value required true maxlength 64 specify validation error messages messages input_name required name maxlength name cannot exceed 64 characters input_value required value maxlength password cannot exceed 64 characters errorelement div wrapper div errorplacement function error element error appendto element parent td error css color red error css text align center function submit_login id name id value valid alert successfully saved like create type validation every row tr please help 1 1 put one write one text field every validation gone\n",
      "Tag: javascript\n"
     ]
    }
   ],
   "source": [
    "post_tag(10000)"
   ]
  },
  {
   "cell_type": "markdown",
   "metadata": {},
   "source": [
    "Much better."
   ]
  },
  {
   "cell_type": "code",
   "execution_count": 20,
   "metadata": {},
   "outputs": [
    {
     "data": {
      "text/plain": [
       "3880052"
      ]
     },
     "execution_count": 20,
     "metadata": {},
     "output_type": "execute_result"
    }
   ],
   "source": [
    "data['post'].apply(lambda x: len(x.split(\" \"))).sum()"
   ]
  },
  {
   "cell_type": "markdown",
   "metadata": {},
   "source": [
    "Now, we have over 3 million words to work with."
   ]
  },
  {
   "cell_type": "markdown",
   "metadata": {},
   "source": [
    "Splitting the dataset."
   ]
  },
  {
   "cell_type": "code",
   "execution_count": 21,
   "metadata": {},
   "outputs": [],
   "source": [
    "from sklearn.model_selection import train_test_split"
   ]
  },
  {
   "cell_type": "code",
   "execution_count": 22,
   "metadata": {},
   "outputs": [],
   "source": [
    "X = data['post']\n",
    "y = data['tags']"
   ]
  },
  {
   "cell_type": "code",
   "execution_count": 23,
   "metadata": {},
   "outputs": [],
   "source": [
    "X_train, X_test, y_train, y_test = train_test_split(X,y, test_size=0.2, random_state=0)"
   ]
  },
  {
   "cell_type": "code",
   "execution_count": 24,
   "metadata": {},
   "outputs": [
    {
     "data": {
      "text/plain": [
       "(32000,)"
      ]
     },
     "execution_count": 24,
     "metadata": {},
     "output_type": "execute_result"
    }
   ],
   "source": [
    "X_train.shape"
   ]
  },
  {
   "cell_type": "code",
   "execution_count": 25,
   "metadata": {},
   "outputs": [
    {
     "data": {
      "text/plain": [
       "(8000,)"
      ]
     },
     "execution_count": 25,
     "metadata": {},
     "output_type": "execute_result"
    }
   ],
   "source": [
    "X_test.shape"
   ]
  },
  {
   "cell_type": "code",
   "execution_count": 26,
   "metadata": {},
   "outputs": [
    {
     "data": {
      "text/plain": [
       "12836    converting string breaks arraylist following s...\n",
       "10913    show progress httprequest angular created usin...\n",
       "4214     obj c really safe compare bool variables used ...\n",
       "8198     setting coordinates facing problem setting bac...\n",
       "31403    heap corruption using make_shared class privat...\n",
       "Name: post, dtype: object"
      ]
     },
     "execution_count": 26,
     "metadata": {},
     "output_type": "execute_result"
    }
   ],
   "source": [
    "X_test.head()"
   ]
  },
  {
   "cell_type": "markdown",
   "metadata": {},
   "source": [
    "The next steps includes feature engineering and model building using pipeline."
   ]
  },
  {
   "cell_type": "markdown",
   "metadata": {},
   "source": [
    "## Naive Bayes classifier for multinomial models."
   ]
  },
  {
   "cell_type": "code",
   "execution_count": 27,
   "metadata": {},
   "outputs": [],
   "source": [
    "from sklearn.naive_bayes import MultinomialNB\n",
    "from sklearn.pipeline import Pipeline\n",
    "from sklearn.feature_extraction.text import CountVectorizer\n",
    "from sklearn.feature_extraction.text import TfidfTransformer"
   ]
  },
  {
   "cell_type": "code",
   "execution_count": 28,
   "metadata": {},
   "outputs": [
    {
     "data": {
      "text/plain": [
       "Pipeline(memory=None,\n",
       "         steps=[('vect',\n",
       "                 CountVectorizer(analyzer='word', binary=False,\n",
       "                                 decode_error='strict',\n",
       "                                 dtype=<class 'numpy.int64'>, encoding='utf-8',\n",
       "                                 input='content', lowercase=True, max_df=1.0,\n",
       "                                 max_features=None, min_df=1,\n",
       "                                 ngram_range=(1, 1), preprocessor=None,\n",
       "                                 stop_words=None, strip_accents=None,\n",
       "                                 token_pattern='(?u)\\\\b\\\\w\\\\w+\\\\b',\n",
       "                                 tokenizer=None, vocabulary=None)),\n",
       "                ('tfidf',\n",
       "                 TfidfTransformer(norm='l2', smooth_idf=True,\n",
       "                                  sublinear_tf=False, use_idf=True)),\n",
       "                ('clf',\n",
       "                 MultinomialNB(alpha=1.0, class_prior=None, fit_prior=True))],\n",
       "         verbose=False)"
      ]
     },
     "execution_count": 28,
     "metadata": {},
     "output_type": "execute_result"
    }
   ],
   "source": [
    "nb = Pipeline([('vect', CountVectorizer()),\n",
    "               ('tfidf', TfidfTransformer()),\n",
    "               ('clf', MultinomialNB()),\n",
    "              ])\n",
    "nb.fit(X_train, y_train)"
   ]
  },
  {
   "cell_type": "code",
   "execution_count": 29,
   "metadata": {},
   "outputs": [],
   "source": [
    "from sklearn.metrics import classification_report, confusion_matrix, accuracy_score"
   ]
  },
  {
   "cell_type": "code",
   "execution_count": 30,
   "metadata": {},
   "outputs": [],
   "source": [
    "y_pred = nb.predict(X_test)"
   ]
  },
  {
   "cell_type": "code",
   "execution_count": 31,
   "metadata": {},
   "outputs": [
    {
     "name": "stdout",
     "output_type": "stream",
     "text": [
      "[[248   4   3  32   9  39  15   0   3   3   9  14   6   0   4   4   6   4\n",
      "    1   1]\n",
      " [  3 374   0   1   0   0   1   0   2   2   5   5   0   0   0   1   0   0\n",
      "    1   0]\n",
      " [  0   0 408   3   2   1   0   0   6   0   3   2  12  12   0   1   3   0\n",
      "    2   0]\n",
      " [ 42   2   2 298   0  29   0   2  14   1   5   7   8   6   3   4   6   1\n",
      "    1   5]\n",
      " [  2   0   0   0 366  12  42   0   2   2   2  10   5   0   1  11   4   6\n",
      "    1   0]\n",
      " [ 44   2   0  12   2 202   4   0   0   1   0   4   4   1   0   4   5   3\n",
      "    0   1]\n",
      " [  7   0   1   0  23  17 317   0   0   0   0   7   3   0   0   7   3   0\n",
      "    0   1]\n",
      " [  1   6   1  10   1   4   2 357  79  10   3   0  10  37   1   2   8   4\n",
      "    1   0]\n",
      " [  1   2   5  10   2   5   0  32 225   3   6   5  34  16   2   3  29   3\n",
      "    5   0]\n",
      " [  0  16   1   0   0   0   0   0   0 270  93   1   1   0   0  62   0   1\n",
      "    0   0]\n",
      " [  0   3   0   0   0   1   0   0   0  52 224   1   1   0   0  37   0   0\n",
      "    1   0]\n",
      " [  9   9   0   0   5  37  11   0   2   0   0 298   4   0   2   4   4   4\n",
      "    0   0]\n",
      " [  3   2   5   2   2   8   5   0  12   0   0   6 231  18   0   0   8   3\n",
      "    1   0]\n",
      " [  2   3   2   8   0   5   0   8  27   0   4   0  50 306   1   0   3   3\n",
      "    4   1]\n",
      " [  0   7   1   3   2   5   1   0   1   2   2   2   2   0 324   3  12  16\n",
      "    3 119]\n",
      " [  2   1   1   0   2   2   1   0   0  44  46   1   3   0   0 247   0   1\n",
      "    0   0]\n",
      " [  3   1   0   0   1   2   1   1   3   0   7   3   7   6  17   5 293   6\n",
      "    1   5]\n",
      " [  4   1   0   0   3  11   8   0   1   2   1   5   5   0   0   3   7 347\n",
      "    2   1]\n",
      " [  2   1   2   3   1   1   2   1   0   4   2   2   3   0   6   1   5   2\n",
      "  335   1]\n",
      " [  4   3   1   5   0   6   1   0   1   1   0   4   2   0  53   1   2   2\n",
      "    4 273]]\n"
     ]
    }
   ],
   "source": [
    "print(confusion_matrix(y_pred,y_test))"
   ]
  },
  {
   "cell_type": "code",
   "execution_count": 32,
   "metadata": {},
   "outputs": [
    {
     "name": "stdout",
     "output_type": "stream",
     "text": [
      "               precision    recall  f1-score   support\n",
      "\n",
      "           c#       0.66      0.61      0.63       405\n",
      "      asp.net       0.86      0.95      0.90       395\n",
      "  objective-c       0.94      0.90      0.92       455\n",
      "         .net       0.77      0.68      0.72       436\n",
      "       python       0.87      0.79      0.83       466\n",
      "    angularjs       0.52      0.70      0.60       289\n",
      "       iphone       0.77      0.82      0.80       386\n",
      "ruby-on-rails       0.89      0.66      0.76       537\n",
      "          ios       0.60      0.58      0.59       388\n",
      "            c       0.68      0.61      0.64       445\n",
      "          sql       0.54      0.70      0.61       320\n",
      "         java       0.79      0.77      0.78       389\n",
      "       jquery       0.59      0.75      0.66       306\n",
      "          css       0.76      0.72      0.74       427\n",
      "          c++       0.78      0.64      0.71       505\n",
      "          php       0.62      0.70      0.66       351\n",
      "      android       0.74      0.81      0.77       362\n",
      "        mysql       0.85      0.87      0.86       401\n",
      "   javascript       0.92      0.90      0.91       374\n",
      "         html       0.67      0.75      0.71       363\n",
      "\n",
      "     accuracy                           0.74      8000\n",
      "    macro avg       0.74      0.75      0.74      8000\n",
      " weighted avg       0.75      0.74      0.74      8000\n",
      "\n",
      "0.742875\n"
     ]
    }
   ],
   "source": [
    "print(classification_report(y_pred, y_test,target_names=data['tags'].unique()))\n",
    "print(accuracy_score(y_pred,y_test))"
   ]
  },
  {
   "cell_type": "markdown",
   "metadata": {},
   "source": [
    "# Linear support vector machine."
   ]
  },
  {
   "cell_type": "code",
   "execution_count": 33,
   "metadata": {},
   "outputs": [],
   "source": [
    "from sklearn.linear_model import SGDClassifier"
   ]
  },
  {
   "cell_type": "code",
   "execution_count": 34,
   "metadata": {},
   "outputs": [
    {
     "name": "stderr",
     "output_type": "stream",
     "text": [
      "C:\\Users\\91904\\Anaconda3\\lib\\site-packages\\sklearn\\linear_model\\stochastic_gradient.py:561: ConvergenceWarning: Maximum number of iteration reached before convergence. Consider increasing max_iter to improve the fit.\n",
      "  ConvergenceWarning)\n"
     ]
    },
    {
     "data": {
      "text/plain": [
       "Pipeline(memory=None,\n",
       "         steps=[('vect',\n",
       "                 CountVectorizer(analyzer='word', binary=False,\n",
       "                                 decode_error='strict',\n",
       "                                 dtype=<class 'numpy.int64'>, encoding='utf-8',\n",
       "                                 input='content', lowercase=True, max_df=1.0,\n",
       "                                 max_features=None, min_df=1,\n",
       "                                 ngram_range=(1, 1), preprocessor=None,\n",
       "                                 stop_words=None, strip_accents=None,\n",
       "                                 token_pattern='(?u)\\\\b\\\\w\\\\w+\\\\b',\n",
       "                                 tokenizer=None, vocabulary=Non...\n",
       "                ('svm_clf',\n",
       "                 SGDClassifier(alpha=0.001, average=False, class_weight=None,\n",
       "                               early_stopping=False, epsilon=0.1, eta0=0.0,\n",
       "                               fit_intercept=True, l1_ratio=0.15,\n",
       "                               learning_rate='optimal', loss='hinge',\n",
       "                               max_iter=5, n_iter_no_change=5, n_jobs=-1,\n",
       "                               penalty='l2', power_t=0.5, random_state=0,\n",
       "                               shuffle=True, tol=0.001, validation_fraction=0.1,\n",
       "                               verbose=0, warm_start=False))],\n",
       "         verbose=False)"
      ]
     },
     "execution_count": 34,
     "metadata": {},
     "output_type": "execute_result"
    }
   ],
   "source": [
    "svm = Pipeline([('vect',CountVectorizer()),\n",
    "               ('tfidf',TfidfTransformer()),\n",
    "               ('svm_clf', SGDClassifier(loss='hinge', penalty='l2',alpha=0.001,n_jobs=-1,random_state=0,max_iter=5))])\n",
    "svm.fit(X_train,y_train)             "
   ]
  },
  {
   "cell_type": "code",
   "execution_count": 35,
   "metadata": {},
   "outputs": [
    {
     "name": "stdout",
     "output_type": "stream",
     "text": [
      "0.7955\n",
      "               precision    recall  f1-score   support\n",
      "\n",
      "           c#       0.80      0.66      0.72       377\n",
      "      asp.net       0.86      0.93      0.89       437\n",
      "  objective-c       0.92      0.98      0.95       433\n",
      "         .net       0.79      0.83      0.81       387\n",
      "       python       0.77      0.89      0.83       421\n",
      "    angularjs       0.78      0.45      0.57       387\n",
      "       iphone       0.84      0.71      0.77       411\n",
      "ruby-on-rails       0.67      0.95      0.79       401\n",
      "          ios       0.83      0.54      0.65       378\n",
      "            c       0.77      0.58      0.67       397\n",
      "          sql       0.71      0.68      0.70       412\n",
      "         java       0.77      0.87      0.82       377\n",
      "       jquery       0.79      0.77      0.78       391\n",
      "          css       0.83      0.83      0.83       402\n",
      "          c++       0.87      0.80      0.83       414\n",
      "          php       0.70      0.71      0.70       400\n",
      "      android       0.80      0.89      0.85       398\n",
      "        mysql       0.83      0.95      0.89       406\n",
      "   javascript       0.85      0.96      0.90       363\n",
      "         html       0.76      0.88      0.81       408\n",
      "\n",
      "     accuracy                           0.80      8000\n",
      "    macro avg       0.80      0.79      0.79      8000\n",
      " weighted avg       0.80      0.80      0.79      8000\n",
      "\n",
      "Wall time: 1.31 s\n"
     ]
    }
   ],
   "source": [
    "%%time\n",
    "y_pred_svm = svm.predict(X_test)\n",
    "print(accuracy_score(y_test,y_pred_svm))\n",
    "print(classification_report(y_test,y_pred_svm, target_names=data['tags'].unique()))"
   ]
  },
  {
   "cell_type": "markdown",
   "metadata": {},
   "source": [
    "# Logistic regression."
   ]
  },
  {
   "cell_type": "code",
   "execution_count": 36,
   "metadata": {},
   "outputs": [],
   "source": [
    "from sklearn.linear_model import LogisticRegression"
   ]
  },
  {
   "cell_type": "code",
   "execution_count": 37,
   "metadata": {},
   "outputs": [],
   "source": [
    "lr = Pipeline([('vect',CountVectorizer()),\n",
    "               ('tfidf', TfidfTransformer()),\n",
    "               ('lr_clf', LogisticRegression(n_jobs=-1,C=0.01))])"
   ]
  },
  {
   "cell_type": "code",
   "execution_count": 38,
   "metadata": {},
   "outputs": [
    {
     "name": "stderr",
     "output_type": "stream",
     "text": [
      "C:\\Users\\91904\\Anaconda3\\lib\\site-packages\\sklearn\\linear_model\\logistic.py:432: FutureWarning: Default solver will be changed to 'lbfgs' in 0.22. Specify a solver to silence this warning.\n",
      "  FutureWarning)\n",
      "C:\\Users\\91904\\Anaconda3\\lib\\site-packages\\sklearn\\linear_model\\logistic.py:469: FutureWarning: Default multi_class will be changed to 'auto' in 0.22. Specify the multi_class option to silence this warning.\n",
      "  \"this warning.\", FutureWarning)\n",
      "C:\\Users\\91904\\Anaconda3\\lib\\site-packages\\sklearn\\linear_model\\logistic.py:1544: UserWarning: 'n_jobs' > 1 does not have any effect when 'solver' is set to 'liblinear'. Got 'n_jobs' = 4.\n",
      "  \" = {}.\".format(effective_n_jobs(self.n_jobs)))\n"
     ]
    },
    {
     "data": {
      "text/plain": [
       "Pipeline(memory=None,\n",
       "         steps=[('vect',\n",
       "                 CountVectorizer(analyzer='word', binary=False,\n",
       "                                 decode_error='strict',\n",
       "                                 dtype=<class 'numpy.int64'>, encoding='utf-8',\n",
       "                                 input='content', lowercase=True, max_df=1.0,\n",
       "                                 max_features=None, min_df=1,\n",
       "                                 ngram_range=(1, 1), preprocessor=None,\n",
       "                                 stop_words=None, strip_accents=None,\n",
       "                                 token_pattern='(?u)\\\\b\\\\w\\\\w+\\\\b',\n",
       "                                 tokenizer=None, vocabulary=None)),\n",
       "                ('tfidf',\n",
       "                 TfidfTransformer(norm='l2', smooth_idf=True,\n",
       "                                  sublinear_tf=False, use_idf=True)),\n",
       "                ('lr_clf',\n",
       "                 LogisticRegression(C=0.01, class_weight=None, dual=False,\n",
       "                                    fit_intercept=True, intercept_scaling=1,\n",
       "                                    l1_ratio=None, max_iter=100,\n",
       "                                    multi_class='warn', n_jobs=-1, penalty='l2',\n",
       "                                    random_state=None, solver='warn',\n",
       "                                    tol=0.0001, verbose=0, warm_start=False))],\n",
       "         verbose=False)"
      ]
     },
     "execution_count": 38,
     "metadata": {},
     "output_type": "execute_result"
    }
   ],
   "source": [
    "lr.fit(X_train,y_train)"
   ]
  },
  {
   "cell_type": "code",
   "execution_count": 39,
   "metadata": {},
   "outputs": [],
   "source": [
    "y_pred_lr = lr.predict(X_test)"
   ]
  },
  {
   "cell_type": "code",
   "execution_count": 40,
   "metadata": {},
   "outputs": [
    {
     "name": "stdout",
     "output_type": "stream",
     "text": [
      "0.747625\n",
      "               precision    recall  f1-score   support\n",
      "\n",
      "           c#       0.64      0.66      0.65       366\n",
      "      asp.net       0.79      0.98      0.87       353\n",
      "  objective-c       0.92      0.98      0.95       408\n",
      "         .net       0.76      0.76      0.76       386\n",
      "       python       0.87      0.72      0.79       507\n",
      "    angularjs       0.37      0.63      0.47       229\n",
      "       iphone       0.65      0.89      0.75       301\n",
      "ruby-on-rails       0.96      0.61      0.75       623\n",
      "          ios       0.55      0.68      0.61       308\n",
      "            c       0.65      0.62      0.64       415\n",
      "          sql       0.59      0.75      0.66       326\n",
      "         java       0.85      0.60      0.70       535\n",
      "       jquery       0.72      0.76      0.74       368\n",
      "          css       0.73      0.78      0.75       379\n",
      "          c++       0.80      0.74      0.77       446\n",
      "          php       0.64      0.65      0.64       394\n",
      "      android       0.78      0.87      0.82       358\n",
      "        mysql       0.89      0.85      0.87       425\n",
      "   javascript       0.90      0.85      0.87       386\n",
      "         html       0.86      0.72      0.78       487\n",
      "\n",
      "     accuracy                           0.75      8000\n",
      "    macro avg       0.75      0.75      0.74      8000\n",
      " weighted avg       0.77      0.75      0.75      8000\n",
      "\n"
     ]
    }
   ],
   "source": [
    "print(accuracy_score(y_pred_lr,y_test))\n",
    "print(classification_report(y_pred_lr,y_test,target_names= data['tags'].unique()))"
   ]
  },
  {
   "cell_type": "markdown",
   "metadata": {},
   "source": [
    "# Random Forest."
   ]
  },
  {
   "cell_type": "code",
   "execution_count": 41,
   "metadata": {},
   "outputs": [],
   "source": [
    "from sklearn.ensemble import RandomForestClassifier"
   ]
  },
  {
   "cell_type": "code",
   "execution_count": 42,
   "metadata": {},
   "outputs": [
    {
     "data": {
      "text/plain": [
       "Pipeline(memory=None,\n",
       "         steps=[('vect',\n",
       "                 CountVectorizer(analyzer='word', binary=False,\n",
       "                                 decode_error='strict',\n",
       "                                 dtype=<class 'numpy.int64'>, encoding='utf-8',\n",
       "                                 input='content', lowercase=True, max_df=1.0,\n",
       "                                 max_features=None, min_df=1,\n",
       "                                 ngram_range=(1, 1), preprocessor=None,\n",
       "                                 stop_words=None, strip_accents=None,\n",
       "                                 token_pattern='(?u)\\\\b\\\\w\\\\w+\\\\b',\n",
       "                                 tokenizer=None, vocabulary=Non...\n",
       "                 RandomForestClassifier(bootstrap=True, class_weight=None,\n",
       "                                        criterion='entropy', max_depth=None,\n",
       "                                        max_features='auto',\n",
       "                                        max_leaf_nodes=None,\n",
       "                                        min_impurity_decrease=0.0,\n",
       "                                        min_impurity_split=None,\n",
       "                                        min_samples_leaf=1, min_samples_split=2,\n",
       "                                        min_weight_fraction_leaf=0.0,\n",
       "                                        n_estimators=200, n_jobs=None,\n",
       "                                        oob_score=False, random_state=None,\n",
       "                                        verbose=0, warm_start=False))],\n",
       "         verbose=False)"
      ]
     },
     "execution_count": 42,
     "metadata": {},
     "output_type": "execute_result"
    }
   ],
   "source": [
    "rfc = Pipeline([('vect', CountVectorizer()),\n",
    "                ('tfidf', TfidfTransformer()),\n",
    "                ('rfc', RandomForestClassifier(n_estimators=200, criterion='entropy'))])\n",
    "rfc.fit(X_train,y_train)"
   ]
  },
  {
   "cell_type": "code",
   "execution_count": 43,
   "metadata": {},
   "outputs": [],
   "source": [
    "y_pred_rfc = rfc.predict(X_test)"
   ]
  },
  {
   "cell_type": "code",
   "execution_count": 44,
   "metadata": {},
   "outputs": [
    {
     "name": "stdout",
     "output_type": "stream",
     "text": [
      "0.79975\n",
      "               precision    recall  f1-score   support\n",
      "\n",
      "         .net       0.69      0.65      0.67       401\n",
      "      android       0.89      0.97      0.93       399\n",
      "    angularjs       0.97      0.98      0.97       428\n",
      "      asp.net       0.77      0.80      0.78       373\n",
      "            c       0.88      0.79      0.83       472\n",
      "           c#       0.56      0.68      0.62       321\n",
      "          c++       0.70      0.88      0.78       328\n",
      "          css       0.93      0.69      0.79       538\n",
      "         html       0.67      0.72      0.69       349\n",
      "          ios       0.62      0.75      0.68       325\n",
      "       iphone       0.74      0.62      0.67       490\n",
      "         java       0.83      0.86      0.85       365\n",
      "   javascript       0.79      0.82      0.80       377\n",
      "       jquery       0.86      0.85      0.85       405\n",
      "        mysql       0.79      0.84      0.81       386\n",
      "  objective-c       0.69      0.73      0.71       379\n",
      "          php       0.82      0.88      0.85       373\n",
      "       python       0.94      0.88      0.91       432\n",
      "ruby-on-rails       0.93      0.97      0.95       350\n",
      "          sql       0.90      0.72      0.80       509\n",
      "\n",
      "     accuracy                           0.80      8000\n",
      "    macro avg       0.80      0.80      0.80      8000\n",
      " weighted avg       0.81      0.80      0.80      8000\n",
      "\n"
     ]
    }
   ],
   "source": [
    "print(accuracy_score(y_pred_rfc,y_test))\n",
    "print(classification_report(y_pred_rfc,y_test))"
   ]
  },
  {
   "cell_type": "markdown",
   "metadata": {},
   "source": [
    "# Creating bag of words with Keras."
   ]
  },
  {
   "cell_type": "code",
   "execution_count": 45,
   "metadata": {},
   "outputs": [],
   "source": [
    "from tensorflow import keras"
   ]
  },
  {
   "cell_type": "code",
   "execution_count": 46,
   "metadata": {},
   "outputs": [
    {
     "name": "stderr",
     "output_type": "stream",
     "text": [
      "Using TensorFlow backend.\n"
     ]
    }
   ],
   "source": [
    "from keras import utils\n",
    "from keras.models import Sequential\n",
    "from keras.layers import Dense, Dropout, Activation\n",
    "from keras.preprocessing import text, sequence"
   ]
  },
  {
   "cell_type": "code",
   "execution_count": 47,
   "metadata": {},
   "outputs": [],
   "source": [
    "train_size = int(len(data) * 0.7)"
   ]
  },
  {
   "cell_type": "code",
   "execution_count": 48,
   "metadata": {},
   "outputs": [
    {
     "name": "stdout",
     "output_type": "stream",
     "text": [
      "Train size: 28000\n",
      "Test_size: 12000\n"
     ]
    }
   ],
   "source": [
    "print('Train size: %d' %train_size)\n",
    "print('Test_size: %d' %(len(data)-train_size))"
   ]
  },
  {
   "cell_type": "code",
   "execution_count": 49,
   "metadata": {},
   "outputs": [],
   "source": [
    "train_post = data['post'][:train_size]\n",
    "train_tag = data['tags'][:train_size]\n",
    "test_post = data['post'][train_size:]\n",
    "test_tag = data['tags'][train_size:]"
   ]
  },
  {
   "cell_type": "code",
   "execution_count": 50,
   "metadata": {},
   "outputs": [
    {
     "data": {
      "text/plain": [
       "0    causing behavior c# datetime type test public ...\n",
       "1    dynamic html load iframe asp net 4 0 site user...\n",
       "2    convert float value min sec trying convert sec...\n",
       "3    net framework 4 redistributable wondering get ...\n",
       "4    trying calculate print mean returning rather n...\n",
       "Name: post, dtype: object"
      ]
     },
     "execution_count": 50,
     "metadata": {},
     "output_type": "execute_result"
    }
   ],
   "source": [
    "train_post.head()"
   ]
  },
  {
   "cell_type": "code",
   "execution_count": 51,
   "metadata": {},
   "outputs": [
    {
     "data": {
      "text/plain": [
       "0             c#\n",
       "1        asp.net\n",
       "2    objective-c\n",
       "3           .net\n",
       "4         python\n",
       "Name: tags, dtype: object"
      ]
     },
     "execution_count": 51,
     "metadata": {},
     "output_type": "execute_result"
    }
   ],
   "source": [
    "train_tag.head()"
   ]
  },
  {
   "cell_type": "code",
   "execution_count": 52,
   "metadata": {},
   "outputs": [
    {
     "data": {
      "text/plain": [
       "28000    live streaming using iphone saving video techn...\n",
       "28001    allow jpg png files possible duplicate allow c...\n",
       "28002    asp net max number aspx pages app know asp net...\n",
       "28003    load firing trying execute jquery code #imgunr...\n",
       "28004    uploaded file located saved jquery file upload...\n",
       "Name: post, dtype: object"
      ]
     },
     "execution_count": 52,
     "metadata": {},
     "output_type": "execute_result"
    }
   ],
   "source": [
    "test_post.head()"
   ]
  },
  {
   "cell_type": "code",
   "execution_count": 53,
   "metadata": {},
   "outputs": [
    {
     "data": {
      "text/plain": [
       "28000        iphone\n",
       "28001           php\n",
       "28002       asp.net\n",
       "28003        jquery\n",
       "28004    javascript\n",
       "Name: tags, dtype: object"
      ]
     },
     "execution_count": 53,
     "metadata": {},
     "output_type": "execute_result"
    }
   ],
   "source": [
    "test_tag.head()"
   ]
  },
  {
   "cell_type": "code",
   "execution_count": 54,
   "metadata": {},
   "outputs": [],
   "source": [
    "token = text.Tokenizer(num_words=1000,char_level=False)"
   ]
  },
  {
   "cell_type": "code",
   "execution_count": 55,
   "metadata": {},
   "outputs": [],
   "source": [
    "token.fit_on_texts(train_post)"
   ]
  },
  {
   "cell_type": "code",
   "execution_count": 56,
   "metadata": {},
   "outputs": [],
   "source": [
    "x_train = token.texts_to_matrix(train_post)\n",
    "x_test = token.texts_to_matrix(test_post)"
   ]
  },
  {
   "cell_type": "code",
   "execution_count": 57,
   "metadata": {},
   "outputs": [
    {
     "name": "stdout",
     "output_type": "stream",
     "text": [
      "[[0. 0. 0. ... 0. 0. 0.]\n",
      " [0. 1. 0. ... 0. 0. 0.]\n",
      " [0. 0. 0. ... 0. 0. 0.]\n",
      " ...\n",
      " [0. 1. 1. ... 0. 0. 0.]\n",
      " [0. 0. 1. ... 0. 0. 0.]\n",
      " [0. 0. 0. ... 0. 0. 0.]]\n",
      "(28000, 1000)\n"
     ]
    }
   ],
   "source": [
    "print(x_train)\n",
    "print(x_train.shape)"
   ]
  },
  {
   "cell_type": "code",
   "execution_count": 58,
   "metadata": {},
   "outputs": [
    {
     "name": "stdout",
     "output_type": "stream",
     "text": [
      "[[0. 0. 0. ... 0. 0. 0.]\n",
      " [0. 0. 0. ... 0. 0. 0.]\n",
      " [0. 0. 0. ... 0. 0. 0.]\n",
      " ...\n",
      " [0. 0. 0. ... 0. 0. 0.]\n",
      " [0. 1. 1. ... 0. 0. 0.]\n",
      " [0. 1. 0. ... 0. 0. 0.]]\n",
      "(12000, 1000)\n"
     ]
    }
   ],
   "source": [
    "print(x_test)\n",
    "print(x_test.shape)"
   ]
  },
  {
   "cell_type": "code",
   "execution_count": 59,
   "metadata": {},
   "outputs": [],
   "source": [
    "from sklearn.preprocessing import LabelEncoder"
   ]
  },
  {
   "cell_type": "code",
   "execution_count": 60,
   "metadata": {},
   "outputs": [],
   "source": [
    "encoder = LabelEncoder()"
   ]
  },
  {
   "cell_type": "code",
   "execution_count": 61,
   "metadata": {},
   "outputs": [],
   "source": [
    "Y_train = encoder.fit_transform(train_tag)\n",
    "Y_test = encoder.transform(test_tag)"
   ]
  },
  {
   "cell_type": "code",
   "execution_count": 62,
   "metadata": {},
   "outputs": [
    {
     "name": "stdout",
     "output_type": "stream",
     "text": [
      "[ 5  3 15 ... 16  1  2]\n",
      "(28000,)\n"
     ]
    }
   ],
   "source": [
    "print(Y_train)\n",
    "print(Y_train.shape)"
   ]
  },
  {
   "cell_type": "code",
   "execution_count": 63,
   "metadata": {},
   "outputs": [
    {
     "name": "stdout",
     "output_type": "stream",
     "text": [
      "[10 16  3 ...  4  2  1]\n",
      "(12000,)\n"
     ]
    }
   ],
   "source": [
    "print(Y_test)\n",
    "print(Y_test.shape)"
   ]
  },
  {
   "cell_type": "code",
   "execution_count": 64,
   "metadata": {},
   "outputs": [],
   "source": [
    "num_classes = np.max(Y_train) + 1"
   ]
  },
  {
   "cell_type": "code",
   "execution_count": 65,
   "metadata": {},
   "outputs": [],
   "source": [
    "Y_train = utils.to_categorical(Y_train, num_classes)"
   ]
  },
  {
   "cell_type": "code",
   "execution_count": 66,
   "metadata": {},
   "outputs": [],
   "source": [
    "Y_test = utils.to_categorical(Y_test, num_classes)"
   ]
  },
  {
   "cell_type": "code",
   "execution_count": 67,
   "metadata": {},
   "outputs": [
    {
     "name": "stdout",
     "output_type": "stream",
     "text": [
      "[[0. 0. 0. ... 0. 0. 0.]\n",
      " [0. 0. 0. ... 0. 0. 0.]\n",
      " [0. 0. 0. ... 0. 0. 0.]\n",
      " ...\n",
      " [0. 0. 0. ... 0. 0. 0.]\n",
      " [0. 0. 1. ... 0. 0. 0.]\n",
      " [0. 1. 0. ... 0. 0. 0.]]\n",
      "(12000, 20)\n",
      "[[0. 0. 0. ... 0. 0. 0.]\n",
      " [0. 0. 0. ... 0. 0. 0.]\n",
      " [0. 0. 0. ... 0. 0. 0.]\n",
      " ...\n",
      " [0. 0. 0. ... 0. 0. 0.]\n",
      " [0. 1. 0. ... 0. 0. 0.]\n",
      " [0. 0. 1. ... 0. 0. 0.]]\n",
      "(28000, 20)\n"
     ]
    }
   ],
   "source": [
    "print(Y_test)\n",
    "print(Y_test.shape)\n",
    "print(Y_train)\n",
    "print(Y_train.shape)"
   ]
  },
  {
   "cell_type": "markdown",
   "metadata": {},
   "source": [
    "Building model."
   ]
  },
  {
   "cell_type": "code",
   "execution_count": 68,
   "metadata": {},
   "outputs": [],
   "source": [
    "model = Sequential()\n",
    "model.add(Dense(512, input_shape=(1000,), activation='relu'))\n",
    "model.add(Dropout(0.5))\n",
    "model.add(Dense(512, activation='relu'))\n",
    "model.add(Dropout(0.5))\n",
    "model.add(Dense(num_classes))\n",
    "model.add(Activation('softmax'))\n",
    "\n",
    "model.compile(loss='categorical_crossentropy',\n",
    "              optimizer='adam',\n",
    "              metrics=['accuracy'])"
   ]
  },
  {
   "cell_type": "code",
   "execution_count": 71,
   "metadata": {},
   "outputs": [
    {
     "name": "stdout",
     "output_type": "stream",
     "text": [
      "Epoch 1/2\n",
      "28000/28000 [==============================] - 15s 546us/step - loss: 0.2898 - accuracy: 0.9013\n",
      "Epoch 2/2\n",
      "28000/28000 [==============================] - 15s 536us/step - loss: 0.2507 - accuracy: 0.9137s - loss: 0.2509 - accuracy: 0.91\n",
      "Wall time: 30.3 s\n"
     ]
    },
    {
     "data": {
      "text/plain": [
       "<keras.callbacks.callbacks.History at 0x2295d376ac8>"
      ]
     },
     "execution_count": 71,
     "metadata": {},
     "output_type": "execute_result"
    }
   ],
   "source": [
    "%%time\n",
    "model.fit(x_train,Y_train, batch_size=32, epochs=2)"
   ]
  },
  {
   "cell_type": "code",
   "execution_count": 72,
   "metadata": {},
   "outputs": [
    {
     "name": "stdout",
     "output_type": "stream",
     "text": [
      "12000/12000 [==============================] - 2s 130us/step\n",
      "Test accuracy: 0.7917500138282776\n"
     ]
    }
   ],
   "source": [
    "score = model.evaluate(x_test, Y_test,\n",
    "                       batch_size=32, verbose=1)\n",
    "print('Test accuracy:', score[1])"
   ]
  }
 ],
 "metadata": {
  "kernelspec": {
   "display_name": "Python 3",
   "language": "python",
   "name": "python3"
  },
  "language_info": {
   "codemirror_mode": {
    "name": "ipython",
    "version": 3
   },
   "file_extension": ".py",
   "mimetype": "text/x-python",
   "name": "python",
   "nbconvert_exporter": "python",
   "pygments_lexer": "ipython3",
   "version": "3.7.4"
  }
 },
 "nbformat": 4,
 "nbformat_minor": 2
}
